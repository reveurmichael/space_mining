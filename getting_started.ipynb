{
 "cells": [
  {
   "cell_type": "markdown",
   "id": "fce82937",
   "metadata": {},
   "source": [
    "## Getting Started with SpaceMining\n",
    "\n",
    "Welcome to SpaceMining — a modern Gymnasium-compatible reinforcement learning (RL) environment for asteroid mining in 2D. This guide helps you install the project, run quick demos, train a baseline PPO agent, generate GIFs, and understand the environment’s core concepts.\n",
    "\n",
    "- **Audience**: New users, students, researchers evaluating RL agents and reward design.\n",
    "- **Goal**: Go from zero to a working demo in minutes, then explore training and evaluation."
   ]
  },
  {
   "cell_type": "markdown",
   "id": "e1bf0a7d",
   "metadata": {},
   "source": [
    "## 1. Installation\n",
    "\n",
    "### 1.1. Prerequisites\n",
    "- Python 3.10+\n",
    "- A recent pip and virtualenv (or Conda/Mamba) installation\n",
    "- Optional: GPU/CUDA if training large models (CPU is fine for demos)\n",
    "\n",
    "### 1.2. Install from PyPI:"
   ]
  },
  {
   "cell_type": "code",
   "execution_count": null,
   "id": "53078a95",
   "metadata": {},
   "outputs": [],
   "source": [
    "!pip install space-mining"
   ]
  },
  {
   "cell_type": "markdown",
   "id": "fff14613",
   "metadata": {},
   "source": [
    "Or, you can install the package from source:"
   ]
  },
  {
   "cell_type": "code",
   "execution_count": null,
   "id": "794862eb",
   "metadata": {},
   "outputs": [],
   "source": [
    "!pip install git+https://github.com/reveurmichael/space_mining.git"
   ]
  },
  {
   "cell_type": "markdown",
   "id": "6b95e5d2",
   "metadata": {},
   "source": [
    "### 1.3. Verify the installation"
   ]
  },
  {
   "cell_type": "code",
   "execution_count": null,
   "id": "c00882d9",
   "metadata": {},
   "outputs": [],
   "source": [
    "!python -c \"import space_mining; print(getattr(space_mining, '__version__', 'installed'))\""
   ]
  },
  {
   "cell_type": "markdown",
   "id": "6047dbaa",
   "metadata": {},
   "source": [
    "Now you can run the following code to verify the installation:"
   ]
  },
  {
   "cell_type": "code",
   "execution_count": null,
   "id": "1c33af83",
   "metadata": {},
   "outputs": [],
   "source": [
    "import space_mining\n",
    "from space_mining import make_env\n",
    "\n",
    "print(getattr(space_mining, \"__version__\", \"installed\"))"
   ]
  },
  {
   "cell_type": "markdown",
   "id": "0f294a2f",
   "metadata": {},
   "source": [
    "## 2. Quickstart Demos"
   ]
  },
  {
   "cell_type": "markdown",
   "id": "806c187e",
   "metadata": {},
   "source": [
    "### 2.1. Run a random agent (human render)\n",
    "Real-time window showing a randomly acting agent for a quick sanity check."
   ]
  },
  {
   "cell_type": "code",
   "execution_count": null,
   "id": "6d9e7f9f",
   "metadata": {},
   "outputs": [],
   "source": [
    "from space_mining import make_env\n",
    "\n",
    "env = make_env(render_mode=\"rgb_array\", max_episode_steps=100)\n",
    "obs, info = env.reset()\n",
    "for _ in range(100):\n",
    "    action = env.action_space.sample()\n",
    "    obs, reward, terminated, truncated, info = env.step(action)\n",
    "    if terminated or truncated:\n",
    "        break\n",
    "env.close()"
   ]
  },
  {
   "cell_type": "markdown",
   "id": "74f072cc",
   "metadata": {},
   "source": [
    "What you should see:\n",
    "- A 2D space with a mining robot, asteroids, a mothership, and moving obstacles\n",
    "- Episode resets upon termination or truncation; total reward prints in terminal\n"
   ]
  },
  {
   "cell_type": "markdown",
   "id": "74f49707",
   "metadata": {},
   "source": [
    "### 2.2. Load a pre-trained agent from Hugging Face and render"
   ]
  },
  {
   "cell_type": "code",
   "execution_count": null,
   "id": "54712171",
   "metadata": {},
   "outputs": [],
   "source": [
    "from space_mining import make_env\n",
    "from space_mining.agents.ppo_agent import PPOAgent\n",
    "\n",
    "env = make_env(render_mode=\"rgb_array\", max_episode_steps=200)\n",
    "agent = PPOAgent.load_from_hf(\n",
    "    \"LUNDECHEN/space-mining-ppo\", filename=\"final_model.zip\", env=env, device=\"cpu\"\n",
    ")\n",
    "obs, info = env.reset()\n",
    "for _ in range(200):\n",
    "    action = agent.predict(obs, deterministic=True)\n",
    "    obs, reward, terminated, truncated, info = env.step(action)\n",
    "    if terminated or truncated:\n",
    "        break\n",
    "env.close()"
   ]
  },
  {
   "cell_type": "markdown",
   "id": "72603113",
   "metadata": {},
   "source": [
    "Notes:\n",
    "- This downloads the model `LUNDECHEN/space-mining-ppo` and runs a short evaluation.\n",
    "- If you’re on a headless server, set `render_mode='rgb_array'` and save frames instead.\n"
   ]
  },
  {
   "cell_type": "markdown",
   "id": "25b9ee5c",
   "metadata": {},
   "source": [
    "## 3. Train a PPO Agent\n",
    "\n",
    "You can use the built-in CLI utility or the programmatic API.\n",
    "\n",
    "### 3.1. CLI-style (programmatic call under the hood)"
   ]
  },
  {
   "cell_type": "code",
   "execution_count": null,
   "id": "bf7137e1",
   "metadata": {},
   "outputs": [],
   "source": [
    "!python -m space_mining.agents.train_ppo --total-timesteps 100000 --output-dir runs/ppo --checkpoint-freq 10000 --eval-freq 20000"
   ]
  },
  {
   "cell_type": "markdown",
   "id": "a166dc69",
   "metadata": {},
   "source": [
    "Outputs:\n",
    "- Checkpoints and logs under `runs/ppo/`\n",
    "- Console progress; evaluations at configured intervals"
   ]
  },
  {
   "cell_type": "markdown",
   "id": "e06c1bed",
   "metadata": {},
   "source": [
    "### 3.2. Minimal programmatic call"
   ]
  },
  {
   "cell_type": "code",
   "execution_count": null,
   "id": "72e30ab8",
   "metadata": {},
   "outputs": [],
   "source": [
    "from space_mining.agents.train_ppo import train_ppo\n",
    "\n",
    "train_ppo(total_timesteps=100000, output_dir=\"runs/ppo\")"
   ]
  },
  {
   "cell_type": "markdown",
   "id": "601b6188",
   "metadata": {},
   "source": [
    "This calls `train_ppo(total_timesteps=100000, output_dir='runs/ppo')` with sensible defaults.\n",
    "\n",
    "Tips:\n",
    "- Start small (e.g., 300k–1M steps) to validate the pipeline and iterate faster.\n",
    "- For long runs, consider using a screen/tmux session or a job scheduler.\n"
   ]
  },
  {
   "cell_type": "markdown",
   "id": "fdfa840e",
   "metadata": {},
   "source": [
    "## 4. Generate a Demo GIF\n",
    "\n",
    "Turn a trajectory into a publication-ready GIF in minutes.\n",
    "\n",
    "### 4.1. From a checkpoint"
   ]
  },
  {
   "cell_type": "code",
   "execution_count": null,
   "id": "2699850e",
   "metadata": {},
   "outputs": [],
   "source": [
    "!python -m space_mining.scripts.make_gif --checkpoint runs/ppo/final_model.zip --output output_gif/agent.gif --steps 1200 --fps 20"
   ]
  },
  {
   "cell_type": "markdown",
   "id": "a7ed921b",
   "metadata": {},
   "source": [
    "### 4.2. Minimal programmatic call"
   ]
  },
  {
   "cell_type": "code",
   "execution_count": null,
   "id": "89e4a471",
   "metadata": {},
   "outputs": [],
   "source": [
    "from space_mining.scripts.make_gif import generate_trajectory, save_gif\n",
    "\n",
    "frames = generate_trajectory(\n",
    "    checkpoint_path=\"runs/ppo/final_model.zip\", num_steps=1200, deterministic=True\n",
    ")\n",
    "save_gif(frames, \"output_gif/agent.gif\", fps=30)"
   ]
  },
  {
   "cell_type": "markdown",
   "id": "bb4f2963",
   "metadata": {},
   "source": [
    "\n",
    "## 5. Troubleshooting\n",
    "\n",
    "- \"No module named space_mining\" → Ensure you activated the virtualenv and installed with `pip install space-mining`\n",
    "- Rendering issues on remote Linux → switch to `render_mode='rgb_array'` or use `xvfb-run`\n",
    "- Long training times → start with fewer timesteps; validate the pipeline first\n",
    "- Memory issues when generating GIFs → reduce `--steps`, lower `--fps`, or use `rgb_array` at smaller frame sizes if available\n",
    "\n",
    "\n",
    "## 6. Frequently Asked Questions (FAQ)\n",
    "\n",
    "- **Can I wrap the environment with Gymnasium wrappers?** Yes, standard wrappers for logging, normalization, or frame stacking should work.\n",
    "- **What’s the action range?** Continuous thrust ∈ [-1, 1] for x/y, plus a mining activation ∈ [0, 1].\n",
    "- **How do I change the episode length?** Pass `max_episode_steps` to `make_env`.\n",
    "- **How do I render off-screen?** Use `render_mode='rgb_array'`.\n",
    "\n",
    "\n",
    "## 7. Next Steps\n",
    "\n",
    "- Explore the `docs/` for the repository (https://github.com/reveurmichael/space_mining) for in-depth guidance:\n",
    "  - `docs/installation.md`: installations, extras, caveats\n",
    "  - `docs/examples.md`: more runnable snippets\n",
    "  - `docs/stable-baseline3.md`: SB3 integration tips\n",
    "  - `docs/faq.md`: additional questions\n",
    "- Try customizing reward structures or evaluation protocols for your research.\n",
    "- Compare policies: random vs PPO vs ablations."
   ]
  }
 ],
 "metadata": {
  "kernelspec": {
   "display_name": "lewagon",
   "language": "python",
   "name": "python3"
  },
  "language_info": {
   "codemirror_mode": {
    "name": "ipython",
    "version": 3
   },
   "file_extension": ".py",
   "mimetype": "text/x-python",
   "name": "python",
   "nbconvert_exporter": "python",
   "pygments_lexer": "ipython3",
   "version": "3.10.6"
  }
 },
 "nbformat": 4,
 "nbformat_minor": 5
}
